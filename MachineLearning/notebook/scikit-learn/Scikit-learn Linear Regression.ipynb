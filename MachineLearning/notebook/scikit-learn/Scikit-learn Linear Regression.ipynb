{
 "cells": [
  {
   "cell_type": "code",
   "execution_count": 4,
   "metadata": {
    "collapsed": false
   },
   "outputs": [],
   "source": [
    "from sklearn import datasets\n",
    "from sklearn.cross_validation import train_test_split\n",
    "from sklearn.linear_model import LinearRegression\n",
    "import matplotlib.pyplot as plt"
   ]
  },
  {
   "cell_type": "code",
   "execution_count": 2,
   "metadata": {
    "collapsed": false
   },
   "outputs": [
    {
     "name": "stdout",
     "output_type": "stream",
     "text": [
      "[ 20.16538281  18.35254473  15.87391235  19.64019841  35.7360491\n",
      "  20.32097295  25.60433318  13.85893007  23.62891979  24.64956039\n",
      "  15.75194324   3.31402557  27.072222    24.4952      21.85087933\n",
      "  29.02371824  19.63330235  17.67579159  11.66907557  16.22393356\n",
      "  12.55947787  27.68491546  19.49049523  20.20787363  39.63383483\n",
      "  19.80331517  24.5702234   25.85995437  17.01218148  25.13402157\n",
      "  14.7974007   21.34242677  23.01107245  22.1411433   12.76206824\n",
      "  33.39254081  13.15440703  20.64189889  30.07477403  23.16150924\n",
      "   8.99620409  29.88054473  33.1473892   27.67184026  18.11828866\n",
      "  22.22084564  25.60026243  15.89782775  23.32370201  23.23842612\n",
      "  23.36939441  21.18989021  28.11208573  24.55453031  21.99478099\n",
      "  15.49168097  22.56104628  17.33625374  24.62681221  24.98391187\n",
      "  31.27529635   6.44158743  16.85295219  22.5187797   33.25304375\n",
      "  23.44232054  33.91447632  19.01589717  19.56444934   7.28394661\n",
      "  12.18331732  17.62039453  16.97178793  21.32550087  28.95259917\n",
      "  20.89317233  30.27844901  14.30843755  27.0872066   14.7346866\n",
      "  22.59624446  21.93304537  21.26018322  22.51996359  21.27947292\n",
      "  22.60670854  13.1163224   28.71243306  17.57175429  14.96556989\n",
      "  18.08282107  12.96065454  16.89367072  21.582738    21.66717004\n",
      "  29.30486839  13.70445679  20.43596474  25.14884551   0.06562354\n",
      "  28.94867813  20.00607954  37.5133966   21.14151104  16.38767424\n",
      "  21.00151017  29.22578808  21.17905584  30.05909856  17.26945931\n",
      "  14.26381597  18.32846363  31.40966559  17.80198888  16.80328153\n",
      "  23.5244537   30.18602531  18.26003728  33.30631949  31.42305476\n",
      "  32.33429802  15.67683603   5.61433061  20.71529527  33.04516303\n",
      "  24.65133363  18.32192859  13.25110904  18.91317208  17.8138333\n",
      "  31.00653197  27.7767658    2.66604706  17.97688709   5.62731379\n",
      "   5.99705489  23.31603064  19.41149764  27.53418557  22.24131641\n",
      "  37.42145989  19.85800666  20.82489058  13.18760304  18.12330135\n",
      "  20.13664042  35.82911004   4.87969036  41.66538909  35.07660207\n",
      "   6.74831018  14.97234036]\n",
      "[ 23.   14.5  20.2  18.9  35.2  13.3  21.6  14.3  20.3  22.2  20.1   8.1\n",
      "  22.3  23.1  19.8  22.9  18.5  14.9  16.3  13.3  10.5  23.7  19.6  20.4\n",
      "  45.4  19.1  24.4  23.8  19.1  22.9  15.7  19.   21.   23.3  12.8  31.5\n",
      "  27.5  16.2  30.1  19.6   8.7  23.   37.2  24.5  17.5  21.1  15.   15.6\n",
      "  23.8  25.   19.4  19.3  25.   22.2  20.7  15.   23.2  18.1  24.3  21.7\n",
      "  32.5   5.   17.6  20.3  32.   19.4  34.9  16.   15.2   8.5  13.8  19.9\n",
      "  19.5  19.6  22.8  22.9  25.1  10.9  25.2   9.6  16.5  21.7  22.   20.2\n",
      "  21.   25.   11.3  36.2  17.4  18.9  19.6  13.5  19.3  18.7  21.2  24.6\n",
      "  19.7  21.7  18.5  13.8  25.   17.1  43.1  21.7  17.8  21.8  23.6  20.6\n",
      "  23.5  14.9  11.   19.5  30.7   7.2  10.2  20.8  29.1  12.1  36.1  35.4\n",
      "  50.   16.6  13.8  18.8  33.1  25.   14.5   9.5  18.3  13.9  32.7  22.8\n",
      "   8.8  14.2  10.5  10.2  20.   15.3  22.   19.3  50.   15.   18.8  11.8\n",
      "  22.5  19.2  46.7   8.4  48.8  34.6  10.4  21.9]\n"
     ]
    },
    {
     "name": "stderr",
     "output_type": "stream",
     "text": [
      "/usr/local/lib/python2.7/site-packages/scipy/linalg/basic.py:884: RuntimeWarning: internal gelsd driver lwork query error, required iwork dimension not returned. This is likely the result of LAPACK bug 0038, fixed in LAPACK 3.2.2 (released July 21, 2010). Falling back to 'gelss' driver.\n",
      "  warnings.warn(mesg, RuntimeWarning)\n"
     ]
    }
   ],
   "source": [
    "boston = datasets.load_boston()\n",
    "boston_X = boston.data\n",
    "boston_y = boston.target\n",
    "linearRegression = LinearRegression()\n",
    "X_train,X_test,y_train,y_test = train_test_split(boston_X,boston_y,test_size=0.3)\n",
    "linearRegression.fit(X_train,y_train)\n",
    "print linearRegression.predict(X_test)\n",
    "print y_test"
   ]
  },
  {
   "cell_type": "code",
   "execution_count": 11,
   "metadata": {
    "collapsed": false
   },
   "outputs": [
    {
     "data": {
      "image/png": "[encoded data removed]",
      "text/plain": [
       "<matplotlib.figure.Figure at 0x10944bf50>"
      ]
     },
     "metadata": {},
     "output_type": "display_data"
    }
   ],
   "source": [
    "X,y = datasets.make_regression(n_samples=100,n_features=1,n_targets=1,noise=10)\n",
    "plt.scatter(X,y)\n",
    "plt.show()"
   ]
  },
  {
   "cell_type": "code",
   "execution_count": null,
   "metadata": {
    "collapsed": true
   },
   "outputs": [],
   "source": []
  }
 ],
 "metadata": {
  "kernelspec": {
   "display_name": "Python 2",
   "language": "python",
   "name": "python2"
  },
  "language_info": {
   "codemirror_mode": {
    "name": "ipython",
    "version": 2
   },
   "file_extension": ".py",
   "mimetype": "text/x-python",
   "name": "python",
   "nbconvert_exporter": "python",
   "pygments_lexer": "ipython2",
   "version": "2.7.12"
  }
 },
 "nbformat": 4,
 "nbformat_minor": 1
}
